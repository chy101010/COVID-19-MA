{
 "cells": [
  {
   "cell_type": "code",
   "execution_count": 1,
   "metadata": {},
   "outputs": [],
   "source": [
    "import requests\n",
    "from bs4 import BeautifulSoup\n",
    "import numpy as np\n",
    "from datetime import date \n",
    "import csv"
   ]
  },
  {
   "cell_type": "code",
   "execution_count": 2,
   "metadata": {},
   "outputs": [],
   "source": [
    "url = 'https://www.worldometers.info/coronavirus/country/us/'\n",
    "result = requests.get(url)\n",
    "result.status_code\n",
    "result = result.text"
   ]
  },
  {
   "cell_type": "code",
   "execution_count": 11,
   "metadata": {},
   "outputs": [
    {
     "name": "stdout",
     "output_type": "stream",
     "text": [
      "[4.22, 42944, 1745]\n"
     ]
    }
   ],
   "source": [
    "# adds MA today's data into the Covid-19.csv\n",
    "def updateToday():\n",
    "    getCsv()\n",
    "    data = getData('Massachusetts')\n",
    "    addCsv(data)\n",
    "    print(data)\n",
    "updateToday()"
   ]
  },
  {
   "cell_type": "code",
   "execution_count": 12,
   "metadata": {},
   "outputs": [
    {
     "name": "stdout",
     "output_type": "stream",
     "text": [
      "[4.22, 42944, 1745]\n"
     ]
    }
   ],
   "source": [
    "soup = BeautifulSoup(result, 'html.parser')\n",
    "\n",
    "# returns the an Array of [date, number of total cases, new cases]\n",
    "def getData(state):\n",
    "    # locates the table of contents for all states  \n",
    "    table = soup.find(id = 'usa_table_countries_today')\n",
    "    states = table.contents[3]\n",
    "    \n",
    "    notFound = True\n",
    "    index = 1\n",
    "    \n",
    "    state_content = \"\"\n",
    "    # locate the table contents for the given state\n",
    "    while notFound:\n",
    "        someState = str(states.contents[index])\n",
    "        if(someState.find(state) != -1):\n",
    "            notFound = False\n",
    "            state_content = states.contents[index]\n",
    "        else:\n",
    "            index = index + 1\n",
    "   \n",
    "    # gets the total case & new cases\n",
    "    data = dataExtract(state_content) \n",
    "    \n",
    "    # gets the date in #month.#days form\n",
    "    date = getDate()\n",
    "    \n",
    "    return [date, data[0], data[1]] \n",
    "\n",
    "# returns the number of new cases and current total cases from the given \n",
    "# table of contents of a state\n",
    "def dataExtract(content):\n",
    "    # string containing the number of cases\n",
    "    stringCase = str(content.contents[3])        \n",
    "    # string containing the number of new cases\n",
    "    stringNewCase = str(content.contents[5])\n",
    "    # total number of new cases in the state\n",
    "    numNewCase = int(extractCounts(stringNewCase).replace(\",\", \"\"))\n",
    "    # total number of cases in the state\n",
    "    numCase = int(extractCounts(stringCase).replace(\",\", \"\"))\n",
    "    return numCase, numNewCase\n",
    "    \n",
    "# extracts the count from the given input\n",
    "# the input should be in the format of (\"someString>123,123 </td>)\n",
    "def extractCounts(input):\n",
    "    index = len(input) - len(\" </td>\")\n",
    "    stringAccumulator = \"\"\n",
    "    \n",
    "    while (input[index - 1]).isdigit() or input[index - 1] == \",\":\n",
    "        index = index - 1\n",
    "        stringAccumulator = input[index] + stringAccumulator \n",
    "        \n",
    "    return stringAccumulator\n",
    "\n",
    "# Get date in #month.#days form\n",
    "def getDate():\n",
    "    lDate = str(date.today())\n",
    "    sDate = lDate[5:len(lDate)]\n",
    "    numDate = float(sDate.replace(\"-\", \".\"))\n",
    "    return numDate\n",
    "\n",
    "print(getData('Massachusetts'))"
   ]
  },
  {
   "cell_type": "code",
   "execution_count": 13,
   "metadata": {},
   "outputs": [],
   "source": [
    "# creates the csv if not created \n",
    "def getCsv():\n",
    "    fields = ['Date', 'Total Cases', 'New Cases']\n",
    "    with open('Covid-19.csv', newline = '') as f:\n",
    "        reader = csv.reader(f)\n",
    "        csv_heading = next(reader)\n",
    "        if np.size(csv_heading) == 0:\n",
    "            with open('Covid-19.csv', 'w', newline='') as covidfile:\n",
    "                cvsWritter = csv.writer(covidfile)\n",
    "                cvsWritter.writerow(fields)\n",
    "\n",
    "# adds the given data in the csv is not yet exist\n",
    "# wont add if the total cases or date is the same  \n",
    "def addCsv(dat):\n",
    "    ArrayDate = []\n",
    "    ArrayCases = []\n",
    "    with open('Covid-19.csv', newline = '') as f:\n",
    "        reader = csv.reader(f)\n",
    "        csv_heading = next(reader)\n",
    "        for row in reader:\n",
    "            ArrayDate = np.append(ArrayDate, row[0])\n",
    "            ArrayCases = np.append(ArrayCases, row[1])                  \n",
    "            \n",
    "    with open('Covid-19.csv', 'a', newline='') as covidfile:\n",
    "        cvsWritter = csv.writer(covidfile)\n",
    "        if not repeated(ArrayDate, dat[0]) and not repeated(ArrayCases, dat[1]) :\n",
    "            cvsWritter.writerow(dat)"
   ]
  },
  {
   "cell_type": "code",
   "execution_count": 14,
   "metadata": {},
   "outputs": [],
   "source": [
    "# determines whether this given num is in the arr\n",
    "def repeated(arr, num):\n",
    "    checker = False\n",
    "    arrayLength = np.size(arr)\n",
    "    index = 0\n",
    "    \n",
    "    while index < arrayLength and not checker:\n",
    "        if float(arr[index]) == num:\n",
    "            checker = True\n",
    "        index = index + 1\n",
    "    return checker"
   ]
  },
  {
   "cell_type": "code",
   "execution_count": null,
   "metadata": {},
   "outputs": [],
   "source": []
  }
 ],
 "metadata": {
  "kernelspec": {
   "display_name": "Python 3",
   "language": "python",
   "name": "python3"
  },
  "language_info": {
   "codemirror_mode": {
    "name": "ipython",
    "version": 3
   },
   "file_extension": ".py",
   "mimetype": "text/x-python",
   "name": "python",
   "nbconvert_exporter": "python",
   "pygments_lexer": "ipython3",
   "version": "3.7.4"
  }
 },
 "nbformat": 4,
 "nbformat_minor": 2
}
