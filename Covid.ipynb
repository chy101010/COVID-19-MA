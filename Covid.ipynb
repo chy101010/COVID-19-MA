{
 "cells": [
  {
   "cell_type": "code",
   "execution_count": 40,
   "metadata": {},
   "outputs": [],
   "source": [
    "import requests\n",
    "from bs4 import BeautifulSoup\n",
    "import numpy as np"
   ]
  },
  {
   "cell_type": "code",
   "execution_count": 39,
   "metadata": {},
   "outputs": [],
   "source": [
    "url = 'https://www.worldometers.info/coronavirus/country/us/'\n",
    "result = requests.get(url)\n",
    "result.status_code\n",
    "result = result.text"
   ]
  },
  {
   "cell_type": "code",
   "execution_count": 148,
   "metadata": {},
   "outputs": [
    {
     "name": "stdout",
     "output_type": "stream",
     "text": [
      "41,199\n",
      "1,556\n"
     ]
    }
   ],
   "source": [
    "soup = BeautifulSoup(result, 'html.parser')\n",
    "\n",
    "# locates the table\n",
    "table = soup.find(id = 'usa_table_countries_today')\n",
    "states = table.contents[3]\n",
    "\n",
    "notFound = True\n",
    "index = 1\n",
    "MA\n",
    "\n",
    "# locate the table contents for MA\n",
    "while notFound:\n",
    "    someState = str(states.contents[index])\n",
    "    # The state name could be changed to any state listed on that website  \n",
    "    if(someState.find('Massachusetts') != -1):\n",
    "        notFound = False\n",
    "        MA = states.contents[index]\n",
    "    else:\n",
    "        index = index + 1\n",
    "\n",
    "# string containing the number of cases\n",
    "stringCase = str(MA.contents[3])        \n",
    "# string containing the number of new cases\n",
    "stringNewCase = str(MA.contents[5])\n",
    "\n",
    "# total number of cases in MA\n",
    "numCase = extractCounts(stringCase)\n",
    "# total number of new cases in MA\n",
    "numNewCase = extractCounts(stringNewCase)\n",
    "\n",
    "print(numCase)\n",
    "print(numNewCase)"
   ]
  },
  {
   "cell_type": "code",
   "execution_count": 37,
   "metadata": {},
   "outputs": [],
   "source": [
    "# extracts the reported number from the given input\n",
    "# the input should be in the format of (\"someString>123,123 </td>)\n",
    "def extractCounts(input):\n",
    "    index = len(input) - len(\" </td>\")\n",
    "    stringAccumulator = \"\"\n",
    "    \n",
    "    while (input[index - 1]).isdigit() or input[index - 1] == \",\":\n",
    "        index = index - 1\n",
    "        stringAccumulator = input[index] + stringAccumulator \n",
    "        \n",
    "    return stringAccumulator\n"
   ]
  }
 ],
 "metadata": {
  "kernelspec": {
   "display_name": "Python 3",
   "language": "python",
   "name": "python3"
  },
  "language_info": {
   "codemirror_mode": {
    "name": "ipython",
    "version": 3
   },
   "file_extension": ".py",
   "mimetype": "text/x-python",
   "name": "python",
   "nbconvert_exporter": "python",
   "pygments_lexer": "ipython3",
   "version": "3.7.4"
  }
 },
 "nbformat": 4,
 "nbformat_minor": 2
}
